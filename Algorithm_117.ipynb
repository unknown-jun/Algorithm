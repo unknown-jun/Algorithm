{
 "cells": [
  {
   "cell_type": "markdown",
   "id": "bb2a64cf",
   "metadata": {},
   "source": [
    "# 입력값 n을 입력받아 n x n 정사각형 배열을 만들자"
   ]
  },
  {
   "cell_type": "code",
   "execution_count": 1,
   "id": "f317531d",
   "metadata": {},
   "outputs": [
    {
     "data": {
      "text/plain": [
       "[[None, None, None, None, None],\n",
       " [None, None, None, None, None],\n",
       " [None, None, None, None, None],\n",
       " [None, None, None, None, None],\n",
       " [None, None, None, None, None],\n",
       " [None, None, None, None, None]]"
      ]
     },
     "execution_count": 1,
     "metadata": {},
     "output_type": "execute_result"
    }
   ],
   "source": [
    "n = 5\n",
    "\n",
    "t_map = []\n",
    "for i in range(n+1):\n",
    "    t = [None]*n\n",
    "    t_map.append(t)\n",
    "    \n",
    "t_map"
   ]
  },
  {
   "cell_type": "markdown",
   "id": "b11878b3",
   "metadata": {},
   "source": [
    "# 들어온 array 값을 2진법으로 바꾸는 코드"
   ]
  },
  {
   "cell_type": "code",
   "execution_count": 8,
   "id": "d412087b",
   "metadata": {},
   "outputs": [
    {
     "data": {
      "text/plain": [
       "['011110', '01', '010101', '010001', '011100']"
      ]
     },
     "execution_count": 8,
     "metadata": {},
     "output_type": "execute_result"
    }
   ],
   "source": [
    "arr1 = [30, 1, 21, 17, 28]\n",
    "binarys = [ bin(i)[0]+bin(i)[2:] for i in arr1 ]\n",
    "\n",
    "binarys"
   ]
  },
  {
   "cell_type": "markdown",
   "id": "7870d3db",
   "metadata": {},
   "source": [
    "# 2진법에 따라 0의 수에는 공백 / 1의 수에는 #을 return!"
   ]
  },
  {
   "cell_type": "code",
   "execution_count": 9,
   "id": "9e96eaa6",
   "metadata": {},
   "outputs": [
    {
     "data": {
      "text/plain": [
       "[' #### ', ' #', ' # # #', ' #   #', ' ###  ']"
      ]
     },
     "execution_count": 9,
     "metadata": {},
     "output_type": "execute_result"
    }
   ],
   "source": [
    "import re\n",
    "\n",
    "cnt = 0\n",
    "for binary in binarys:\n",
    "    binarys[cnt] = re.sub('0', ' ', binary)\n",
    "    binarys[cnt] = re.sub('1', '#', binarys[cnt])\n",
    "    cnt+=1\n",
    "\n",
    "binarys"
   ]
  },
  {
   "cell_type": "markdown",
   "id": "9832c50e",
   "metadata": {},
   "source": [
    "# n과 arr1, arr2를 입력받아 한개의 지도를 출력하자!"
   ]
  },
  {
   "cell_type": "code",
   "execution_count": 22,
   "id": "c2ff81a7",
   "metadata": {},
   "outputs": [
    {
     "name": "stdout",
     "output_type": "stream",
     "text": [
      "['#  #', '# #  ', '###  ', '#  # ', '# ##']\n",
      "['#### ', '#', '# # #', '#   #', '###  ']\n"
     ]
    }
   ],
   "source": [
    "arr1 = [9, 20, 28, 18, 11]\n",
    "arr2 = [30, 1, 21, 17, 28]\n",
    "\n",
    "binarys_1 = [ bin(i)[2:] for i in arr1 ]\n",
    "binarys_2 = [ bin(i)[2:] for i in arr2 ]\n",
    "\n",
    "def make_map(binarys):\n",
    "    cnt = 0\n",
    "    for binary in binarys:\n",
    "        binarys[cnt] = re.sub('0', ' ', binary)\n",
    "        binarys[cnt] = re.sub('1', '#', binarys[cnt])\n",
    "        cnt+=1\n",
    "        \n",
    "    return binarys\n",
    "\n",
    "print(make_map(binarys_1))\n",
    "print(make_map(binarys_2))"
   ]
  },
  {
   "cell_type": "code",
   "execution_count": 24,
   "id": "8a010acc",
   "metadata": {},
   "outputs": [
    {
     "data": {
      "text/plain": [
       "'0b1'"
      ]
     },
     "execution_count": 24,
     "metadata": {},
     "output_type": "execute_result"
    }
   ],
   "source": [
    "bin(1)"
   ]
  },
  {
   "cell_type": "markdown",
   "id": "1e7ff9fa",
   "metadata": {},
   "source": [
    "# 오류를 파악했다. 1을 2진법으로 반환하면 1로만 나오는데 이를 00001로 바꿔여 한다.\n",
    "진법의 수가 n자리를 충족하지 못한다면 그 자리에 0을 채워 넣어야 한다."
   ]
  },
  {
   "cell_type": "code",
   "execution_count": 54,
   "id": "aca4bbe1",
   "metadata": {},
   "outputs": [
    {
     "name": "stdout",
     "output_type": "stream",
     "text": [
      "1\n"
     ]
    },
    {
     "data": {
      "text/plain": [
       "['11110', '00001', '10101', '10001', '11100']"
      ]
     },
     "execution_count": 54,
     "metadata": {},
     "output_type": "execute_result"
    }
   ],
   "source": [
    "n = 5\n",
    "arr2 = [30, 1, 21, 17, 28]\n",
    "binarys = [ bin(i)[2:] for i in arr2 ]\n",
    "\n",
    "cnt = 0\n",
    "for i in binarys:\n",
    "    if len(i) < n:\n",
    "        print(i)\n",
    "        while len(i) < n:\n",
    "            i = '0'+str(i)\n",
    "        binarys[cnt] = i\n",
    "    cnt += 1\n",
    "            \n",
    "binarys"
   ]
  },
  {
   "cell_type": "markdown",
   "id": "0a352a55",
   "metadata": {},
   "source": [
    "# 오류를 고친 코드를 다시 함수화!"
   ]
  },
  {
   "cell_type": "code",
   "execution_count": 57,
   "id": "d1c35abc",
   "metadata": {},
   "outputs": [
    {
     "name": "stdout",
     "output_type": "stream",
     "text": [
      "[' #  #', '# #  ', '###  ', '#  # ', ' # ##']\n",
      "['#### ', '    #', '# # #', '#   #', '###  ']\n"
     ]
    }
   ],
   "source": [
    "arr1 = [9, 20, 28, 18, 11]\n",
    "arr2 = [30, 1, 21, 17, 28]\n",
    "\n",
    "binarys_1 = [ bin(i)[2:] for i in arr1 ]\n",
    "binarys_2 = [ bin(i)[2:] for i in arr2 ]\n",
    "\n",
    "def fill_0(binarys):\n",
    "    cnt = 0\n",
    "    for binary in binarys:\n",
    "        if len(binary) < n:\n",
    "            while len(binary) < n:\n",
    "                binary = '0'+str(binary)\n",
    "            binarys[cnt] = binary\n",
    "        cnt += 1\n",
    "        \n",
    "    return binarys\n",
    "\n",
    "binarys_1 = fill_0(binarys_1)\n",
    "binarys_2 = fill_0(binarys_2)\n",
    "\n",
    "def make_map(binarys):\n",
    "    import re\n",
    "    cnt = 0\n",
    "    for binary in binarys:\n",
    "        binarys[cnt] = re.sub('0', ' ', binary)\n",
    "        binarys[cnt] = re.sub('1', '#', binarys[cnt])\n",
    "        cnt+=1\n",
    "        \n",
    "    return binarys\n",
    "\n",
    "print(make_map(binarys_1))\n",
    "print(make_map(binarys_2))"
   ]
  },
  {
   "cell_type": "markdown",
   "id": "e7ac0635",
   "metadata": {},
   "source": [
    "# 조건문을 이용하여 #이 하나 이상 나오면 # 없으면 ' ' 이 나오게 함"
   ]
  },
  {
   "cell_type": "code",
   "execution_count": 91,
   "id": "c0112610",
   "metadata": {},
   "outputs": [
    {
     "data": {
      "text/plain": [
       "['#####', '# # #', '### #', '#  ##', '#####']"
      ]
     },
     "execution_count": 91,
     "metadata": {},
     "output_type": "execute_result"
    }
   ],
   "source": [
    "arr1 = [9, 20, 28, 18, 11]\n",
    "arr2 = [30, 1, 21, 17, 28]\n",
    "\n",
    "answer = [''] * n\n",
    "\n",
    "binarys_1 = [ bin(i)[2:] for i in arr1 ]\n",
    "binarys_2 = [ bin(i)[2:] for i in arr2 ]\n",
    "\n",
    "def fill_0(binarys):\n",
    "    cnt = 0\n",
    "    for binary in binarys:\n",
    "        if len(binary) < n:\n",
    "            while len(binary) < n:\n",
    "                binary = '0'+str(binary)\n",
    "            binarys[cnt] = binary\n",
    "        cnt += 1\n",
    "        \n",
    "    return binarys\n",
    "\n",
    "def make_map(binarys):\n",
    "    import re\n",
    "    cnt = 0\n",
    "    \n",
    "    for binary in binarys:\n",
    "        binarys[cnt] = re.sub('0', ' ', binary)\n",
    "        binarys[cnt] = re.sub('1', '#', binarys[cnt])\n",
    "        cnt+=1\n",
    "        \n",
    "    return binarys\n",
    "\n",
    "binarys_1 = fill_0(binarys_1)\n",
    "binarys_2 = fill_0(binarys_2)\n",
    "\n",
    "binarys_1 = make_map(binarys_1)\n",
    "binarys_2 = make_map(binarys_2)\n",
    "\n",
    "cnt = 0\n",
    "for binarys_list1,binarys_list2 in zip(binarys_1, binarys_2):\n",
    "    for i, z in zip(binarys_list1,binarys_list2):\n",
    "#         print(i,z)\n",
    "        if i == '#' or z == '#':\n",
    "            answer[cnt] = answer[cnt]+'#'\n",
    "        else:\n",
    "            answer[cnt] = answer[cnt]+' '\n",
    "    cnt += 1\n",
    "    \n",
    "answer"
   ]
  },
  {
   "cell_type": "markdown",
   "id": "3acb15e5",
   "metadata": {},
   "source": [
    "# 최종 코드"
   ]
  },
  {
   "cell_type": "code",
   "execution_count": 90,
   "id": "1039da64",
   "metadata": {},
   "outputs": [
    {
     "name": "stdout",
     "output_type": "stream",
     "text": [
      "['#####', '# # #', '### #', '#  ##', '#####']\n"
     ]
    }
   ],
   "source": [
    "def solution(n, arr1, arr2):\n",
    "\n",
    "    answer = [''] * n\n",
    "\n",
    "    binarys_1 = [ bin(i)[2:] for i in arr1 ]\n",
    "    binarys_2 = [ bin(i)[2:] for i in arr2 ]\n",
    "\n",
    "    def fill_0(binarys):\n",
    "        cnt = 0\n",
    "        for binary in binarys:\n",
    "            if len(binary) < n:\n",
    "                while len(binary) < n:\n",
    "                    binary = '0'+str(binary)\n",
    "                binarys[cnt] = binary\n",
    "            cnt += 1\n",
    "\n",
    "        return binarys\n",
    "\n",
    "    def make_map(binarys):\n",
    "        import re\n",
    "        cnt = 0\n",
    "\n",
    "        for binary in binarys:\n",
    "            binarys[cnt] = re.sub('0', ' ', binary)\n",
    "            binarys[cnt] = re.sub('1', '#', binarys[cnt])\n",
    "            cnt+=1\n",
    "\n",
    "        return binarys\n",
    "\n",
    "    binarys_1 = fill_0(binarys_1)\n",
    "    binarys_2 = fill_0(binarys_2)\n",
    "\n",
    "    binarys_1 = make_map(binarys_1)\n",
    "    binarys_2 = make_map(binarys_2)\n",
    "\n",
    "    cnt = 0\n",
    "    for binarys_list1,binarys_list2 in zip(binarys_1, binarys_2):\n",
    "        for i, z in zip(binarys_list1,binarys_list2):\n",
    "            if i == '#' or z == '#':\n",
    "                answer[cnt] = answer[cnt]+'#'\n",
    "            else:\n",
    "                answer[cnt] = answer[cnt]+' '\n",
    "        cnt += 1\n",
    "\n",
    "    return answer"
   ]
  }
 ],
 "metadata": {
  "kernelspec": {
   "display_name": "Python 3",
   "language": "python",
   "name": "python3"
  },
  "language_info": {
   "codemirror_mode": {
    "name": "ipython",
    "version": 3
   },
   "file_extension": ".py",
   "mimetype": "text/x-python",
   "name": "python",
   "nbconvert_exporter": "python",
   "pygments_lexer": "ipython3",
   "version": "3.8.8"
  },
  "toc": {
   "base_numbering": 1,
   "nav_menu": {},
   "number_sections": true,
   "sideBar": true,
   "skip_h1_title": false,
   "title_cell": "Table of Contents",
   "title_sidebar": "Contents",
   "toc_cell": false,
   "toc_position": {},
   "toc_section_display": true,
   "toc_window_display": false
  }
 },
 "nbformat": 4,
 "nbformat_minor": 5
}
