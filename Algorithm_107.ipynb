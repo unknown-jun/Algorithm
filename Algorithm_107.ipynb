{
 "cells": [
  {
   "cell_type": "code",
   "execution_count": 23,
   "id": "88af7315",
   "metadata": {
    "ExecuteTime": {
     "end_time": "2021-06-19T03:38:38.884597Z",
     "start_time": "2021-06-19T03:38:38.864593Z"
    }
   },
   "outputs": [
    {
     "data": {
      "text/plain": [
       "[5, 6, 3]"
      ]
     },
     "execution_count": 23,
     "metadata": {},
     "output_type": "execute_result"
    }
   ],
   "source": [
    "array = [1, 5, 2, 6, 3, 7, 4]\n",
    "commands = [[2, 5, 3], [4, 4, 1], [1, 7, 3]]\n",
    "\n",
    "temp = []\n",
    "\n",
    "cut_array_1 = array[(commands[0][0]-1):(commands[0][1])]\n",
    "cut_array_1.sort()\n",
    "temp.append(cut_array_1[(commands[0][2]-1)])\n",
    "\n",
    "cut_array_2 = array[(commands[1][0]-1):(commands[1][1])]\n",
    "cut_array_2.sort()\n",
    "temp.append(cut_array_2[(commands[1][2]-1)])\n",
    "\n",
    "cut_array_3 = array[(commands[2][0]-1):(commands[2][1])]\n",
    "cut_array_3.sort()\n",
    "temp.append(cut_array_3[(commands[2][2]-1)])\n",
    "\n",
    "temp"
   ]
  },
  {
   "cell_type": "code",
   "execution_count": null,
   "id": "5d161167",
   "metadata": {},
   "outputs": [],
   "source": [
    "def solution(array, commands):\n",
    "    \n",
    "    answer = []\n",
    "    \n",
    "    for i in range(len(commands)):\n",
    "        cut_array = array[(commands[i][0]-1):(commands[i][1])]\n",
    "        cut_array.sort()\n",
    "        answer.append(cut_array[(commands[i][2]-1)])\n",
    "    \n",
    "    return answer"
   ]
  }
 ],
 "metadata": {
  "kernelspec": {
   "display_name": "Python 3",
   "language": "python",
   "name": "python3"
  },
  "language_info": {
   "codemirror_mode": {
    "name": "ipython",
    "version": 3
   },
   "file_extension": ".py",
   "mimetype": "text/x-python",
   "name": "python",
   "nbconvert_exporter": "python",
   "pygments_lexer": "ipython3",
   "version": "3.8.8"
  },
  "toc": {
   "base_numbering": 1,
   "nav_menu": {},
   "number_sections": true,
   "sideBar": true,
   "skip_h1_title": false,
   "title_cell": "Table of Contents",
   "title_sidebar": "Contents",
   "toc_cell": false,
   "toc_position": {},
   "toc_section_display": true,
   "toc_window_display": false
  }
 },
 "nbformat": 4,
 "nbformat_minor": 5
}
