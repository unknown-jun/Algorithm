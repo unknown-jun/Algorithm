{
 "cells": [
  {
   "cell_type": "markdown",
   "id": "27ee68d8",
   "metadata": {},
   "source": [
    "![image](https://user-images.githubusercontent.com/70187490/125267816-1b484580-e342-11eb-92ad-3b5ae017c40c.png)"
   ]
  },
  {
   "cell_type": "markdown",
   "id": "0cc52612",
   "metadata": {},
   "source": [
    "![image](https://user-images.githubusercontent.com/70187490/125267859-256a4400-e342-11eb-98c2-66e25720fa53.png)"
   ]
  },
  {
   "cell_type": "code",
   "execution_count": 100,
   "id": "2178de54",
   "metadata": {},
   "outputs": [],
   "source": [
    "strings = [\"sun\", \"bed\", \"car\"]\n",
    "n = 1"
   ]
  },
  {
   "cell_type": "markdown",
   "id": "15389321",
   "metadata": {},
   "source": [
    "# sorted안에서 lamdba 식을 써서 해결\n",
    "* 여기서 포인트는 (str[n], str)\n",
    "* 이 코드는 str[n]을 먼저 해결한 후, str로 다시 정렬한다"
   ]
  },
  {
   "cell_type": "code",
   "execution_count": 85,
   "id": "77f50a13",
   "metadata": {},
   "outputs": [],
   "source": [
    "def solution(strings, n):\n",
    "    answer = []\n",
    "    for s in strings:\n",
    "        answer.append(s)\n",
    "    return sorted(answer, key = lambda str: (str[n], str) )"
   ]
  },
  {
   "cell_type": "markdown",
   "id": "6e0a2e06",
   "metadata": {},
   "source": [
    "# 먼저 사전순으로 정렬한 후에 lambda 식을 써서 다시 정렬"
   ]
  },
  {
   "cell_type": "code",
   "execution_count": 101,
   "id": "ddf4ac60",
   "metadata": {},
   "outputs": [],
   "source": [
    "def solution(strings, n): \n",
    "    \n",
    "    answer = [] \n",
    "    \n",
    "    strings = sorted(strings) \n",
    "    print(strings)\n",
    "    answer = sorted(strings, key=lambda x: x[n]) \n",
    "    print(answer)\n",
    "    \n",
    "    return answer"
   ]
  },
  {
   "cell_type": "code",
   "execution_count": 102,
   "id": "d4991834",
   "metadata": {},
   "outputs": [
    {
     "name": "stdout",
     "output_type": "stream",
     "text": [
      "['bed', 'car', 'sun']\n",
      "['car', 'bed', 'sun']\n"
     ]
    },
    {
     "data": {
      "text/plain": [
       "['car', 'bed', 'sun']"
      ]
     },
     "execution_count": 102,
     "metadata": {},
     "output_type": "execute_result"
    }
   ],
   "source": [
    "solution(strings, n)"
   ]
  }
 ],
 "metadata": {
  "kernelspec": {
   "display_name": "Python 3",
   "language": "python",
   "name": "python3"
  },
  "language_info": {
   "codemirror_mode": {
    "name": "ipython",
    "version": 3
   },
   "file_extension": ".py",
   "mimetype": "text/x-python",
   "name": "python",
   "nbconvert_exporter": "python",
   "pygments_lexer": "ipython3",
   "version": "3.8.8"
  },
  "toc": {
   "base_numbering": 1,
   "nav_menu": {},
   "number_sections": true,
   "sideBar": true,
   "skip_h1_title": false,
   "title_cell": "Table of Contents",
   "title_sidebar": "Contents",
   "toc_cell": false,
   "toc_position": {},
   "toc_section_display": true,
   "toc_window_display": false
  }
 },
 "nbformat": 4,
 "nbformat_minor": 5
}
