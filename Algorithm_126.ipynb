{
 "cells": [
  {
   "cell_type": "markdown",
   "id": "bddd1a66",
   "metadata": {},
   "source": [
    "![image](https://user-images.githubusercontent.com/70187490/125569866-35e77501-e57e-4b14-b628-fdfc19a85d2b.png)"
   ]
  },
  {
   "cell_type": "markdown",
   "id": "6716298c",
   "metadata": {},
   "source": [
    "# 정규 표현식으로 풀이"
   ]
  },
  {
   "cell_type": "code",
   "execution_count": 30,
   "id": "da6a573b",
   "metadata": {},
   "outputs": [],
   "source": [
    "import re\n",
    "\n",
    "def solution(s):\n",
    "    import re\n",
    "    \n",
    "    if re.match(r'(\\d){4,6}',s):\n",
    "        # [0-9] 숫자형이 4번이나 6번 반복되는 경우 re객체를 반환\n",
    "        print(re.match(r'(\\d){4,6}',s))\n",
    "        return True\n",
    "    else:\n",
    "        return False"
   ]
  },
  {
   "cell_type": "code",
   "execution_count": 32,
   "id": "e6d9c834",
   "metadata": {},
   "outputs": [
    {
     "data": {
      "text/plain": [
       "False"
      ]
     },
     "execution_count": 32,
     "metadata": {},
     "output_type": "execute_result"
    }
   ],
   "source": [
    "s = 'a1111'\n",
    "solution(s)"
   ]
  },
  {
   "cell_type": "code",
   "execution_count": 31,
   "id": "4244fd66",
   "metadata": {
    "scrolled": false
   },
   "outputs": [
    {
     "name": "stdout",
     "output_type": "stream",
     "text": [
      "<re.Match object; span=(0, 4), match='1111'>\n"
     ]
    },
    {
     "data": {
      "text/plain": [
       "True"
      ]
     },
     "execution_count": 31,
     "metadata": {},
     "output_type": "execute_result"
    }
   ],
   "source": [
    "s = '1111a'\n",
    "solution(s)"
   ]
  },
  {
   "cell_type": "markdown",
   "id": "6ed0e153",
   "metadata": {},
   "source": [
    "# 맨마지막이 문자일 경우 True로 반환하는 것을 파악"
   ]
  },
  {
   "cell_type": "code",
   "execution_count": 37,
   "id": "c20c81d1",
   "metadata": {},
   "outputs": [],
   "source": [
    "import re\n",
    "\n",
    "def solution(s):\n",
    "    import re\n",
    "    \n",
    "    if re.match(r'(\\d){4,6}$',s):\n",
    "        return True\n",
    "    else:\n",
    "        return False"
   ]
  },
  {
   "cell_type": "markdown",
   "id": "1ea04e28",
   "metadata": {},
   "source": [
    "![image](https://user-images.githubusercontent.com/70187490/125570327-1eac3dfc-6930-43bd-9d6b-b56e8f9ad878.png)"
   ]
  },
  {
   "cell_type": "markdown",
   "id": "e8f2796d",
   "metadata": {},
   "source": [
    "# 시작까지도 숫자로 시작하고 숫자로 끝나는 것으로 변환"
   ]
  },
  {
   "cell_type": "code",
   "execution_count": 21,
   "id": "4a86e9ae",
   "metadata": {},
   "outputs": [],
   "source": [
    "import re\n",
    "\n",
    "def solution(s):\n",
    "    import re\n",
    "    \n",
    "    if re.match(r'^(\\d{4}|\\d{6})$',s):\n",
    "        return True\n",
    "    else:\n",
    "        return False"
   ]
  },
  {
   "cell_type": "code",
   "execution_count": null,
   "id": "cc22b876",
   "metadata": {},
   "outputs": [],
   "source": [
    "def solution(s):\n",
    "    import re\n",
    "    return bool( re.match(r'^(\\d{4}|\\d{6})$',s) )"
   ]
  }
 ],
 "metadata": {
  "kernelspec": {
   "display_name": "Python 3",
   "language": "python",
   "name": "python3"
  },
  "language_info": {
   "codemirror_mode": {
    "name": "ipython",
    "version": 3
   },
   "file_extension": ".py",
   "mimetype": "text/x-python",
   "name": "python",
   "nbconvert_exporter": "python",
   "pygments_lexer": "ipython3",
   "version": "3.8.8"
  },
  "toc": {
   "base_numbering": 1,
   "nav_menu": {},
   "number_sections": true,
   "sideBar": true,
   "skip_h1_title": false,
   "title_cell": "Table of Contents",
   "title_sidebar": "Contents",
   "toc_cell": false,
   "toc_position": {},
   "toc_section_display": true,
   "toc_window_display": false
  }
 },
 "nbformat": 4,
 "nbformat_minor": 5
}
