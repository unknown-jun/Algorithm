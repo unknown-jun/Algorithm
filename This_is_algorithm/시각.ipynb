{
 "cells": [
  {
   "cell_type": "markdown",
   "metadata": {},
   "source": [
    "![image](https://user-images.githubusercontent.com/70187490/178204734-5f57e945-b62f-495d-a202-b0529a25f0b9.png)\n"
   ]
  },
  {
   "cell_type": "markdown",
   "metadata": {},
   "source": [
    "# 내가 풀은 방식(책의 풀이와 동일)\n",
    "1. 시각을 구현\n",
    "2. 3을 찾기 위해 모든 시, 분, 초를 string 형으로 변경\n",
    "3. string형인 clock에서 3을 탐색"
   ]
  },
  {
   "cell_type": "code",
   "execution_count": 30,
   "metadata": {},
   "outputs": [
    {
     "name": "stdout",
     "output_type": "stream",
     "text": [
      "입력 받은 시각은 5입니다.\n",
      "5시에 3은 11475번 있습니다.\n"
     ]
    }
   ],
   "source": [
    "n = int(input())\n",
    "\n",
    "print(f'입력 받은 시각은 {n}입니다.')\n",
    "\n",
    "cnt = 0\n",
    "for hour in range(n+1):\n",
    "    \n",
    "    for min in range(60):\n",
    "        \n",
    "        for sec in range(60):\n",
    "            clock = str(hour) + str(min) + str(sec)\n",
    "            \n",
    "            if '3' in clock:\n",
    "                cnt += 1             \n",
    "                   \n",
    "print(f'{n}시에 3은 {cnt}번 있습니다.')"
   ]
  },
  {
   "cell_type": "markdown",
   "metadata": {},
   "source": [
    "# 다른 방식\n",
    "- 주요 아이디어: hour, min, sec을 모두 따로따로 경우의 수를 센다.\n",
    "1. 시간은 12진법이고 3이 들어가는 수는 3시 밖에 존재하지 않다.\n",
    "    - 이때 3을 나눴을 때 결과가 1일 경우밖에 존재하지 않는다.\n",
    "2. 분, 초는 60진법이며 이때 3이 들어가는 경우는 두 가지의 경우로 나뉜다.\n",
    "    - 일의 자리에서 3이 들어가는 경우:  \n",
    "    10을 나누었을 때 나머지가 3인 경우는 모두 count\n",
    "    - 십의 자리에 3이 들어가는 경우:  \n",
    "    10을 나누었을 때 몫이 3인 경우 모두 count"
   ]
  },
  {
   "cell_type": "code",
   "execution_count": 39,
   "metadata": {},
   "outputs": [
    {
     "name": "stdout",
     "output_type": "stream",
     "text": [
      "입력 받은 시각은 5입니다.\n",
      "5시에 3은 11475번 있습니다.\n"
     ]
    }
   ],
   "source": [
    "n = int(input())\n",
    "\n",
    "print(f'입력 받은 시각은 {n}입니다.')\n",
    "\n",
    "cnt = 0\n",
    "\n",
    "def count(x, y, z):\n",
    "    if x / 3 == 1 or  \\\n",
    "       y % 10 == 3 or  \\\n",
    "       y // 10 == 3 or \\\n",
    "       z % 10 == 3 or  \\\n",
    "       z // 10 == 3:\n",
    "        return True\n",
    "    else:\n",
    "        return False\n",
    "    \n",
    "for hour in range(n+1):\n",
    "    \n",
    "    for min in range(60):\n",
    "        \n",
    "        for sec in range(60):\n",
    "            cnt += count(hour, min, sec)\n",
    "                   \n",
    "print(f'{n}시에 3은 {cnt}번 있습니다.')"
   ]
  }
 ],
 "metadata": {
  "kernelspec": {
   "display_name": "Python 3.10.5 64-bit",
   "language": "python",
   "name": "python3"
  },
  "language_info": {
   "codemirror_mode": {
    "name": "ipython",
    "version": 3
   },
   "file_extension": ".py",
   "mimetype": "text/x-python",
   "name": "python",
   "nbconvert_exporter": "python",
   "pygments_lexer": "ipython3",
   "version": "3.10.5"
  },
  "orig_nbformat": 4,
  "vscode": {
   "interpreter": {
    "hash": "c4f41072509db84c6c2b4c9e3ada6f3d8e3e1f182a9c78f7c9fcac4a13605ea6"
   }
  }
 },
 "nbformat": 4,
 "nbformat_minor": 2
}
