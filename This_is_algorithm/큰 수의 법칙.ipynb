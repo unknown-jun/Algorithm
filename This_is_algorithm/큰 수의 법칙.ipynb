{
 "cells": [
  {
   "cell_type": "markdown",
   "metadata": {},
   "source": [
    "![image](https://user-images.githubusercontent.com/70187490/177921472-afe13705-2cdb-4bb0-98d1-f802ccd33950.png)"
   ]
  },
  {
   "cell_type": "code",
   "execution_count": 21,
   "metadata": {},
   "outputs": [
    {
     "name": "stdout",
     "output_type": "stream",
     "text": [
      "5 8 3\n",
      "[2, 4, 5, 4, 6]\n",
      "46\n"
     ]
    }
   ],
   "source": [
    "# loop를 이용하여 푸는 방법\n",
    "\n",
    "N, M, K = map(int,input().split(' '))\n",
    "data = list(map(int,input().split(' ')))\n",
    "\n",
    "print(N, M, K)\n",
    "print(data)\n",
    "\n",
    "data.sort()\n",
    "first = data[N-1]\n",
    "second = data[N-2]\n",
    "\n",
    "result = 0\n",
    "\n",
    "while True:\n",
    "    for i in range(K): # 가장 큰 수를 K번 더하기\n",
    "        if M == 0:     # M이 0이라면 반복문 탈출\n",
    "            break\n",
    "        result += first\n",
    "        M -= 1\n",
    "    if M == 0:         # M이 0이라면 반복문 탈출\n",
    "        break\n",
    "    result += second   # 두 번째로 큰 수를 한 번 더하기\n",
    "    M -= 1             # 더할 때마다 1씩 빼기\n",
    "    \n",
    "print(result)"
   ]
  },
  {
   "cell_type": "code",
   "execution_count": 20,
   "metadata": {},
   "outputs": [
    {
     "name": "stdout",
     "output_type": "stream",
     "text": [
      "5 8 3\n",
      "[2, 4, 5, 4, 6]\n",
      "46\n"
     ]
    }
   ],
   "source": [
    "# loop를 이용하지 않고 푸는 방법\n",
    "\n",
    "n, m, k = map(int,input().split(' '))\n",
    "data = list(map(int,input().split(' ')))\n",
    "\n",
    "print(n, m, k)\n",
    "print(data)\n",
    "\n",
    "data.sort()\n",
    "first = data[n-1]\n",
    "sencond = data[n-2]\n",
    "\n",
    "count = int(m / (k+1)) * k\n",
    "count += m % (k+1)\n",
    "\n",
    "result = 0\n",
    "result += (count) * first\n",
    "result += (m-count) * sencond\n",
    "\n",
    "print(result)"
   ]
  }
 ],
 "metadata": {
  "kernelspec": {
   "display_name": "Python 3.10.5 64-bit",
   "language": "python",
   "name": "python3"
  },
  "language_info": {
   "codemirror_mode": {
    "name": "ipython",
    "version": 3
   },
   "file_extension": ".py",
   "mimetype": "text/x-python",
   "name": "python",
   "nbconvert_exporter": "python",
   "pygments_lexer": "ipython3",
   "version": "3.10.5"
  },
  "orig_nbformat": 4,
  "vscode": {
   "interpreter": {
    "hash": "c4f41072509db84c6c2b4c9e3ada6f3d8e3e1f182a9c78f7c9fcac4a13605ea6"
   }
  }
 },
 "nbformat": 4,
 "nbformat_minor": 2
}
