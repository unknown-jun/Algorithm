{
 "cells": [
  {
   "cell_type": "markdown",
   "metadata": {},
   "source": [
    "![image](https://user-images.githubusercontent.com/70187490/178131468-6054607c-234c-4cd2-a80b-0126e2cde538.png)\n",
    "![image](https://user-images.githubusercontent.com/70187490/178131481-4ff68e6e-84ba-433c-b4b2-9dc8bb62b7b5.png)"
   ]
  },
  {
   "cell_type": "markdown",
   "metadata": {},
   "source": [
    "# 내가 처음에 구현한 코드\n",
    "- N만큼의 범위 내에서만 움직여야 하므로 N을 제한 범위로 설정\n",
    "- R, L, D, U에 대하여 얼마만큼 움직여야 하는지를 설정\n",
    "- R, D의 경우 +로 움직여야 하므로 N(제한 범위)을 넘겼을 시에 다시 -\n",
    "- L, U의 경우 -로 움직여야 하므로 0으로 도달할 시에 다시 +"
   ]
  },
  {
   "cell_type": "code",
   "execution_count": 35,
   "metadata": {},
   "outputs": [
    {
     "name": "stdout",
     "output_type": "stream",
     "text": [
      "지도의 크기는 5x5입니다.\n",
      "움직여야 하는 여행경로는 ['r', 'r', 'r', 'u', 'd', 'd']와 같습니다.\n",
      "[3, 4]\n"
     ]
    }
   ],
   "source": [
    "# n과 이동 경로 입력 받기\n",
    "n = int(input())\n",
    "root = input().lower().split(' ')  # 사용자가 소문자로 입력할 시 오류 방지\n",
    "\n",
    "print(f'지도의 크기는 {n}x{n}입니다.')\n",
    "print(f'움직여야 하는 여행경로는 {root}와 같습니다.')\n",
    "\n",
    "# 초기 위치 설정\n",
    "root_map = [1,1]\n",
    "\n",
    "# 이동하는 횟수는 root의 길이\n",
    "for i in root: \n",
    "    if i == 'r':\n",
    "        root_map[1] = root_map[1] + 1\n",
    "\n",
    "         # 제한 범위를 넘었을 시 원상복구\n",
    "        if root_map[1] >= n: \n",
    "            root_map[1] = root_map[1] - 1\n",
    "    \n",
    "    elif i == 'l':\n",
    "        root_map[1] = root_map[1] - 1\n",
    "        \n",
    "         # 제한 범위를 넘었을 시 원상복구\n",
    "        if root_map[1] == 0:\n",
    "            root_map[1] = root_map[1] + 1\n",
    "        \n",
    "    elif i == 'u':\n",
    "        root_map[0] = root_map[0] - 1\n",
    "        \n",
    "         # 제한 범위를 넘었을 시 원상복구\n",
    "        if root_map[0] == 0:\n",
    "            root_map[0] = root_map[0] + 1\n",
    "            \n",
    "    elif i == 'd':\n",
    "        root_map[0] = root_map[0] + 1\n",
    "        \n",
    "         # 제한 범위를 넘었을 시 원상복구\n",
    "        if root_map[0] >= n:\n",
    "            root_map[0] = root_map[0] - 1   \n",
    "             \n",
    "print(root_map)"
   ]
  },
  {
   "cell_type": "markdown",
   "metadata": {},
   "source": [
    "# 책에서 나온 풀이법\n",
    "1. N과 plan을 입력 받는다.\n",
    "2. 이동방향에 따른 모든 조건을 서술한다.\n",
    "    - move_types는 이동 방향에 대한 조건을 담는다.\n",
    "    - dx, dy, move_types의 같은 인덱스는 해당 조건 하의 이동 경로를 뜻한다.\n",
    "3. 이중 loop를 통과하면서 각 조건문을 지난다.\n",
    "    - 첫 번째 loop는 입력 받은 plan의 list의 인자를 하나씩 통과시킨다.\n",
    "    - 두 번째 loop에서 이동 방향에 대한 조건인 move_types의 인자를 입력시킨다.\n",
    "    - 만약 plan과 move_types의 인자가 같을 시에 그 결과로 나온 인덱스를 nx, ny에 적용시킨다.\n",
    "4. continue 조건문을 추가하여 공간을 벗어나는 경우에는 최종 위치 객체에 추가하지 않도록 한다."
   ]
  },
  {
   "cell_type": "code",
   "execution_count": 38,
   "metadata": {},
   "outputs": [
    {
     "name": "stdout",
     "output_type": "stream",
     "text": [
      "move_type가 뜻하는 것은 다음과 같다.: R\n",
      "nx는 1, ny는 2입니다.\n",
      "move_type가 뜻하는 것은 다음과 같다.: R\n",
      "nx는 1, ny는 3입니다.\n",
      "move_type가 뜻하는 것은 다음과 같다.: R\n",
      "nx는 1, ny는 4입니다.\n",
      "move_type가 뜻하는 것은 다음과 같다.: U\n",
      "nx는 0, ny는 4입니다.\n",
      "move_type가 뜻하는 것은 다음과 같다.: D\n",
      "nx는 2, ny는 4입니다.\n",
      "move_type가 뜻하는 것은 다음과 같다.: D\n",
      "nx는 3, ny는 4입니다.\n",
      "3 4\n"
     ]
    }
   ],
   "source": [
    "# N을 입력받기\n",
    "n = int(input())\n",
    "x, y = 1, 1\n",
    "plans = input().split()\n",
    "\n",
    "# L, R, U, D에 따른 이동 방향\n",
    "dx = [0, 0, -1, 1]\n",
    "dy = [-1, 1, 0, 0]\n",
    "move_types = ['L','R','U','D']\n",
    "\n",
    "# 이동 계획을 하나씩 확인\n",
    "for plan in plans:\n",
    "    # 이동 후 좌표 구하기\n",
    "    for i in range(len(move_types)):\n",
    "        if plan == move_types[i]:\n",
    "            print(f'move_type가 뜻하는 것은 다음과 같다.: {move_types[i]}')\n",
    "            nx = x + dx[i]\n",
    "            ny = y + dy[i]\n",
    "            print(f'nx는 {nx}, ny는 {ny}입니다.')\n",
    "    # 공간을 벗어나는 경우 무시\n",
    "    if nx < 1 or ny < 1 or nx > n or ny > n:\n",
    "        continue\n",
    "    x, y = nx, ny\n",
    "        \n",
    "print(x, y)"
   ]
  }
 ],
 "metadata": {
  "kernelspec": {
   "display_name": "Python 3.10.5 64-bit",
   "language": "python",
   "name": "python3"
  },
  "language_info": {
   "codemirror_mode": {
    "name": "ipython",
    "version": 3
   },
   "file_extension": ".py",
   "mimetype": "text/x-python",
   "name": "python",
   "nbconvert_exporter": "python",
   "pygments_lexer": "ipython3",
   "version": "3.10.5"
  },
  "orig_nbformat": 4,
  "vscode": {
   "interpreter": {
    "hash": "c4f41072509db84c6c2b4c9e3ada6f3d8e3e1f182a9c78f7c9fcac4a13605ea6"
   }
  }
 },
 "nbformat": 4,
 "nbformat_minor": 2
}
