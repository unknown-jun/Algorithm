{
 "cells": [
  {
   "cell_type": "markdown",
   "metadata": {},
   "source": [
    "![image](https://user-images.githubusercontent.com/70187490/178093213-c49b0602-f50a-4d66-aa9c-4968949efb1f.png)\n"
   ]
  },
  {
   "cell_type": "markdown",
   "metadata": {},
   "source": [
    "# 내가 한 코드\n",
    "- 가정: \n",
    "1. n이 1로 만들 때까지 loop를 실행한다.\n",
    "2. 수를 가장 적은 수로 작게 할 수 있는 것은 나눗셈이다.\n",
    "3. 나눗셈 시에 나머지가 0이 아니라면 1을 빼고 그렇지 않은 경우에는 1을 뺀다.\n",
    "- 문제점: \n",
    "n이 k 보다 작을 경우를 생각하지 못했다."
   ]
  },
  {
   "cell_type": "code",
   "execution_count": 22,
   "metadata": {},
   "outputs": [
    {
     "name": "stdout",
     "output_type": "stream",
     "text": [
      "n은 13이며, k는 15입니다.\n",
      "1을 만들기 위해 12회 반복했습니다.\n",
      "현재 n은 1입니다.\n"
     ]
    }
   ],
   "source": [
    "n, k = map(int, input().split(' '))\n",
    "cnt = 0\n",
    "\n",
    "print(f'n은 {n}이며, k는 {k}입니다.')\n",
    "\n",
    "while n != 1:\n",
    "    if n % k == 0:\n",
    "        cnt += 1\n",
    "        n = n / k\n",
    "    else:\n",
    "        cnt += 1\n",
    "        n -= 1\n",
    "        \n",
    "print(f'1을 만들기 위해 {cnt}회 반복했습니다.')\n",
    "print(f'현재 n은 {n}입니다.')"
   ]
  },
  {
   "cell_type": "markdown",
   "metadata": {},
   "source": [
    "# 책에서의 정답"
   ]
  },
  {
   "cell_type": "code",
   "execution_count": 16,
   "metadata": {},
   "outputs": [
    {
     "name": "stdout",
     "output_type": "stream",
     "text": [
      "n은 17이며, k는 4입니다.\n",
      "1을 만들기 위해 3회 반복했습니다.\n",
      "현재 n은 1입니다.\n"
     ]
    }
   ],
   "source": [
    "# 단순하게 푸는 답안 예시\n",
    "\n",
    "n, k = map(int, input().split(' '))\n",
    "print(f'n은 {n}이며, k는 {k}입니다.')\n",
    "result = 0\n",
    "\n",
    "# n이 k 이상이라면 k로 계속 나누기\n",
    "while n >= k:\n",
    "    # n이 k로 나누어 떨어지지 않는다면 n에서 1씩 빼기\n",
    "    while n % k != 0:\n",
    "        n -= 1\n",
    "        result += 1\n",
    "    # k로 나누기\n",
    "    n //= k\n",
    "    result += 1\n",
    "    \n",
    "# 마지막으로 남은 수에 대하여 1씩 빼기\n",
    "while n > 1:\n",
    "    n -= 1\n",
    "    result += 1\n",
    "\n",
    "print(f'1을 만들기 위해 {result}회 반복했습니다.')\n",
    "print(f'현재 n은 {n}입니다.')"
   ]
  },
  {
   "cell_type": "code",
   "execution_count": 19,
   "metadata": {},
   "outputs": [
    {
     "name": "stdout",
     "output_type": "stream",
     "text": [
      "n은 17이며, k는 3입니다.\n",
      "17 3\n",
      "15\n",
      "5 3\n",
      "3\n",
      "1 3\n",
      "0\n",
      "1을 만들기 위해 6회 반복했습니다.\n",
      "현재 n은 0입니다.\n"
     ]
    }
   ],
   "source": [
    "# 좀 더 효율적인 코드\n",
    "\n",
    "n, k = map(int, input().split(' '))\n",
    "print(f'n은 {n}이며, k는 {k}입니다.')\n",
    "result = 0\n",
    "\n",
    "while True:\n",
    "    # (n == k로 나누어떨어지는 수)가 될 때까지 1씩 빼기\n",
    "    print(n, k)\n",
    "    target = (n // k) * k\n",
    "    result += (n-target)\n",
    "    n = target\n",
    "    print(target)\n",
    "    # n이 k보다 작을 때(더 이상 나눌 수 없을 때) 반복문 탈출\n",
    "    if n < k:\n",
    "        break\n",
    "    # k로 나누기\n",
    "    result += 1\n",
    "    n //= k\n",
    "    \n",
    "# 마지막으로 남은 수에 대해서 1씩 빼기\n",
    "result += (n-1)\n",
    "print(f'1을 만들기 위해 {result}회 반복했습니다.')\n",
    "print(f'현재 n은 {n}입니다.')"
   ]
  }
 ],
 "metadata": {
  "kernelspec": {
   "display_name": "Python 3.10.5 64-bit",
   "language": "python",
   "name": "python3"
  },
  "language_info": {
   "codemirror_mode": {
    "name": "ipython",
    "version": 3
   },
   "file_extension": ".py",
   "mimetype": "text/x-python",
   "name": "python",
   "nbconvert_exporter": "python",
   "pygments_lexer": "ipython3",
   "version": "3.10.5"
  },
  "orig_nbformat": 4,
  "vscode": {
   "interpreter": {
    "hash": "c4f41072509db84c6c2b4c9e3ada6f3d8e3e1f182a9c78f7c9fcac4a13605ea6"
   }
  }
 },
 "nbformat": 4,
 "nbformat_minor": 2
}
