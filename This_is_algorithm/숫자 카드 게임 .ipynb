{
 "cells": [
  {
   "cell_type": "markdown",
   "metadata": {},
   "source": [
    "![image](https://user-images.githubusercontent.com/70187490/178092146-bdba12ad-05de-4a55-b660-107ef8b88542.png)"
   ]
  },
  {
   "cell_type": "markdown",
   "metadata": {},
   "source": [
    "![image](https://user-images.githubusercontent.com/70187490/178092153-719e6584-a48c-4b51-a703-a8d39eca19f9.png)"
   ]
  },
  {
   "cell_type": "code",
   "execution_count": 19,
   "metadata": {},
   "outputs": [
    {
     "name": "stdout",
     "output_type": "stream",
     "text": [
      "[7, 3, 1, 8]\n",
      "[3, 3, 3, 4]\n"
     ]
    },
    {
     "data": {
      "text/plain": [
       "3"
      ]
     },
     "execution_count": 19,
     "metadata": {},
     "output_type": "execute_result"
    }
   ],
   "source": [
    "n, m = map(int, input().split(' '))\n",
    "\n",
    "tmp = []\n",
    "# 행의 수 만큼 loop\n",
    "for i in range(n):\n",
    "    row = list(map(int, input().split(' ')))\n",
    "    # 가장 낮은 숫자만 리스트에 추가\n",
    "    tmp.append(min(row)) \n",
    "\n",
    "# 낮은 숫자가 모여 있는 리스트 중에 가장 큰 수를 반환\n",
    "result = max(tmp)\n",
    "print(result)"
   ]
  }
 ],
 "metadata": {
  "kernelspec": {
   "display_name": "Python 3.10.5 64-bit",
   "language": "python",
   "name": "python3"
  },
  "language_info": {
   "codemirror_mode": {
    "name": "ipython",
    "version": 3
   },
   "file_extension": ".py",
   "mimetype": "text/x-python",
   "name": "python",
   "nbconvert_exporter": "python",
   "pygments_lexer": "ipython3",
   "version": "3.10.5"
  },
  "orig_nbformat": 4,
  "vscode": {
   "interpreter": {
    "hash": "c4f41072509db84c6c2b4c9e3ada6f3d8e3e1f182a9c78f7c9fcac4a13605ea6"
   }
  }
 },
 "nbformat": 4,
 "nbformat_minor": 2
}
