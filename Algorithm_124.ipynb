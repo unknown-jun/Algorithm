{
 "cells": [
  {
   "cell_type": "markdown",
   "id": "bef01300",
   "metadata": {},
   "source": [
    "![image](https://user-images.githubusercontent.com/70187490/125391180-f950d080-e3de-11eb-8506-059c07b221c6.png)\n"
   ]
  },
  {
   "cell_type": "markdown",
   "id": "4a3ace75",
   "metadata": {},
   "source": [
    "![image](https://user-images.githubusercontent.com/70187490/125391211-066dbf80-e3df-11eb-8bc6-99224540bcfa.png)"
   ]
  },
  {
   "cell_type": "markdown",
   "id": "0d2552a6",
   "metadata": {},
   "source": [
    "# for loop를 돌아 count하는 방법"
   ]
  },
  {
   "cell_type": "code",
   "execution_count": null,
   "id": "ee2d8a8f",
   "metadata": {},
   "outputs": [],
   "source": [
    "def solution(s):\n",
    "    \n",
    "    s = s.lower()\n",
    "    p = 0\n",
    "    y = 0\n",
    "    \n",
    "    for i in s:\n",
    "        if i == 'p':\n",
    "            p += 1\n",
    "        elif i == 'y':\n",
    "            y +=1\n",
    "    \n",
    "    if p == y:\n",
    "        return True\n",
    "    if p != y:\n",
    "        return False"
   ]
  },
  {
   "cell_type": "markdown",
   "id": "60ab5d06",
   "metadata": {},
   "source": [
    "# count 함수를 사용하는 방법"
   ]
  },
  {
   "cell_type": "code",
   "execution_count": null,
   "id": "1e8db6ef",
   "metadata": {},
   "outputs": [],
   "source": [
    "def solution(s):\n",
    "    \n",
    "    return s.lower().count('p') == s.lower().count('y')"
   ]
  }
 ],
 "metadata": {
  "kernelspec": {
   "display_name": "Python 3",
   "language": "python",
   "name": "python3"
  },
  "language_info": {
   "codemirror_mode": {
    "name": "ipython",
    "version": 3
   },
   "file_extension": ".py",
   "mimetype": "text/x-python",
   "name": "python",
   "nbconvert_exporter": "python",
   "pygments_lexer": "ipython3",
   "version": "3.8.8"
  },
  "toc": {
   "base_numbering": 1,
   "nav_menu": {},
   "number_sections": true,
   "sideBar": true,
   "skip_h1_title": false,
   "title_cell": "Table of Contents",
   "title_sidebar": "Contents",
   "toc_cell": false,
   "toc_position": {},
   "toc_section_display": true,
   "toc_window_display": false
  }
 },
 "nbformat": 4,
 "nbformat_minor": 5
}
