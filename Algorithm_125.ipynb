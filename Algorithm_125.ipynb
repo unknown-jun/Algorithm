{
 "cells": [
  {
   "cell_type": "markdown",
   "id": "400dc83c",
   "metadata": {},
   "source": [
    "![image](https://user-images.githubusercontent.com/70187490/125393223-80537800-e3e2-11eb-9d55-37795232b9f0.png)"
   ]
  },
  {
   "cell_type": "code",
   "execution_count": 16,
   "id": "d6ddb662",
   "metadata": {},
   "outputs": [
    {
     "data": {
      "text/plain": [
       "'gfedcbZ'"
      ]
     },
     "execution_count": 16,
     "metadata": {},
     "output_type": "execute_result"
    }
   ],
   "source": [
    "s ='Zbcdefg'\n",
    "def solution(s):\n",
    "    t = [ i for i in sorted(s, reverse=True)]\n",
    "    return ''.join(t)\n",
    "\n",
    "solution(s)"
   ]
  }
 ],
 "metadata": {
  "kernelspec": {
   "display_name": "Python 3",
   "language": "python",
   "name": "python3"
  },
  "language_info": {
   "codemirror_mode": {
    "name": "ipython",
    "version": 3
   },
   "file_extension": ".py",
   "mimetype": "text/x-python",
   "name": "python",
   "nbconvert_exporter": "python",
   "pygments_lexer": "ipython3",
   "version": "3.8.8"
  },
  "toc": {
   "base_numbering": 1,
   "nav_menu": {},
   "number_sections": true,
   "sideBar": true,
   "skip_h1_title": false,
   "title_cell": "Table of Contents",
   "title_sidebar": "Contents",
   "toc_cell": false,
   "toc_position": {},
   "toc_section_display": true,
   "toc_window_display": false
  }
 },
 "nbformat": 4,
 "nbformat_minor": 5
}
