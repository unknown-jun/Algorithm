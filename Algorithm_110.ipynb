{
 "cells": [
  {
   "cell_type": "markdown",
   "id": "6768ab39",
   "metadata": {},
   "source": [
    "약수의 개수를 계산하는 함수 생성"
   ]
  },
  {
   "cell_type": "code",
   "execution_count": 1,
   "id": "7a3eaab7",
   "metadata": {},
   "outputs": [
    {
     "data": {
      "text/plain": [
       "2"
      ]
     },
     "execution_count": 1,
     "metadata": {},
     "output_type": "execute_result"
    }
   ],
   "source": [
    "def divisor(value):\n",
    "    \n",
    "    cnt_t = 0\n",
    "    \n",
    "    for i in range(1, value+1):\n",
    "        if value % i == 0: cnt_t += 1\n",
    "    return cnt_t\n",
    "\n",
    "values = 13\n",
    "divisor(values)"
   ]
  },
  {
   "cell_type": "markdown",
   "id": "0f3b0c79",
   "metadata": {},
   "source": [
    "left랑 right를 받아서 약수의 개수를 반환하는 함수 생성"
   ]
  },
  {
   "cell_type": "code",
   "execution_count": 2,
   "id": "99ff2bc2",
   "metadata": {},
   "outputs": [
    {
     "data": {
      "text/plain": [
       "(2, 2)"
      ]
     },
     "execution_count": 2,
     "metadata": {},
     "output_type": "execute_result"
    }
   ],
   "source": [
    "def rl_divisor(right, left):\n",
    "    \n",
    "    cnt_r = 0\n",
    "    cnt_l = 0\n",
    "    \n",
    "    for i in range(1, right + 1): \n",
    "        if right % i == 0: cnt_r += 1\n",
    "    \n",
    "    for i in range(1, left + 1):\n",
    "        if left % i == 0: cnt_l += 1\n",
    "    \n",
    "    return cnt_r, cnt_l\n",
    "\n",
    "right = 13\n",
    "left = 17\n",
    "rl_divisor(right, left)"
   ]
  },
  {
   "cell_type": "markdown",
   "id": "993895f3",
   "metadata": {},
   "source": [
    "left랑 right를 받아서 left ~ right 사이의 범위에 약수를 모두 반환하는 함수 생성하기"
   ]
  },
  {
   "cell_type": "code",
   "execution_count": 3,
   "id": "df8fd257",
   "metadata": {},
   "outputs": [
    {
     "data": {
      "text/plain": [
       "[2, 4, 4, 5, 2]"
      ]
     },
     "execution_count": 3,
     "metadata": {},
     "output_type": "execute_result"
    }
   ],
   "source": [
    "def range_divisor(left, right):\n",
    "    \n",
    "    num_divisor = []\n",
    "    \n",
    "    for i in range(left, right+1):\n",
    "        cnt = 0\n",
    "        \n",
    "        for z in range(1, i + 1): \n",
    "            if i % z == 0:\n",
    "                cnt += 1\n",
    "        num_divisor.append(cnt)\n",
    "                \n",
    "    return num_divisor\n",
    "\n",
    "left = 13\n",
    "right = 17\n",
    "range_divisor(left, right)"
   ]
  },
  {
   "cell_type": "markdown",
   "id": "4d1cf1b5",
   "metadata": {},
   "source": [
    "divisor가 홀수면 빼고 짝수면 더하는 함수 만들기"
   ]
  },
  {
   "cell_type": "code",
   "execution_count": 4,
   "id": "a9420bfd",
   "metadata": {},
   "outputs": [],
   "source": [
    "def calurate_divisor(num_divisor, left, right):\n",
    "    \n",
    "    example_list = [ i for i in range(left, right + 1) ]\n",
    "    answer = 0\n",
    "    \n",
    "    for i in num_divisor: \n",
    "        if i % 2 ==0:\n",
    "            answer += example_list[num_divisor.index(i)]\n",
    "        else:\n",
    "            answer -= example_list[num_divisor.index(i)]\n",
    "    \n",
    "    return answer"
   ]
  },
  {
   "cell_type": "markdown",
   "id": "b1baffeb",
   "metadata": {},
   "source": [
    "최종"
   ]
  },
  {
   "cell_type": "code",
   "execution_count": 5,
   "id": "918ebafe",
   "metadata": {},
   "outputs": [],
   "source": [
    "def solution(left, right):\n",
    "    \n",
    "    example_list = [ i for i in range(left, right + 1) ]\n",
    "    answer = 0\n",
    "    num_divisor = []\n",
    "    \n",
    "    for i in range(left, right+1):\n",
    "        cnt = 0\n",
    "        \n",
    "        for z in range(1, i + 1): \n",
    "            if i % z == 0:\n",
    "                cnt += 1\n",
    "        num_divisor.append(cnt)\n",
    "    \n",
    "    cnt_i = 0\n",
    "    for i in num_divisor: \n",
    "\n",
    "        if i % 2 ==0:\n",
    "            answer += example_list[cnt_i]\n",
    "\n",
    "        else:\n",
    "            answer = answer - example_list[cnt_i]\n",
    "        cnt_i += 1\n",
    "    return answer"
   ]
  }
 ],
 "metadata": {
  "kernelspec": {
   "display_name": "Python 3",
   "language": "python",
   "name": "python3"
  },
  "language_info": {
   "codemirror_mode": {
    "name": "ipython",
    "version": 3
   },
   "file_extension": ".py",
   "mimetype": "text/x-python",
   "name": "python",
   "nbconvert_exporter": "python",
   "pygments_lexer": "ipython3",
   "version": "3.8.8"
  },
  "toc": {
   "base_numbering": 1,
   "nav_menu": {},
   "number_sections": true,
   "sideBar": true,
   "skip_h1_title": false,
   "title_cell": "Table of Contents",
   "title_sidebar": "Contents",
   "toc_cell": false,
   "toc_position": {},
   "toc_section_display": true,
   "toc_window_display": false
  }
 },
 "nbformat": 4,
 "nbformat_minor": 5
}
