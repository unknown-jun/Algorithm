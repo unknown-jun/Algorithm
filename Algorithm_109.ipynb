{
 "cells": [
  {
   "cell_type": "markdown",
   "id": "8d412ed3",
   "metadata": {},
   "source": [
    "참가자의 앞글자를 숫자로 바꾸어 key값으로, value로 이름으로 한 dictionary를 만든다."
   ]
  },
  {
   "cell_type": "code",
   "execution_count": 1,
   "id": "d241baca",
   "metadata": {},
   "outputs": [
    {
     "data": {
      "text/plain": [
       "{108: 'leo', 107: 'kiki', 101: 'eden'}"
      ]
     },
     "execution_count": 1,
     "metadata": {},
     "output_type": "execute_result"
    }
   ],
   "source": [
    "participant = [\"leo\", \"kiki\", \"eden\"]\n",
    "\n",
    "def parti_dict(participants):\n",
    "    \n",
    "    parti_dict = dict()\n",
    "    for participant in participants:\n",
    "        parti_dict[ord(participant[0])]=participant\n",
    "    \n",
    "    return parti_dict\n",
    "\n",
    "parti_dict(participant)"
   ]
  },
  {
   "cell_type": "markdown",
   "id": "3aae8a9c",
   "metadata": {},
   "source": [
    "완주자의 앞글자를 숫자로 바꾸어 key값으로, value로 이름으로 한 dictionary를 만든다."
   ]
  },
  {
   "cell_type": "code",
   "execution_count": 2,
   "id": "c348ed72",
   "metadata": {},
   "outputs": [
    {
     "data": {
      "text/plain": [
       "{101: 'eden', 107: 'kiki'}"
      ]
     },
     "execution_count": 2,
     "metadata": {},
     "output_type": "execute_result"
    }
   ],
   "source": [
    "completion = [\"eden\", \"kiki\"]\n",
    "\n",
    "def compl_dict(completions):\n",
    "    \n",
    "    compl_dict = dict()\n",
    "    for completion in completions:\n",
    "        compl_dict[ord(completion[0])]=completion\n",
    "    \n",
    "    return compl_dict\n",
    "\n",
    "compl_dict(completion)"
   ]
  },
  {
   "cell_type": "markdown",
   "id": "e304c9d8",
   "metadata": {},
   "source": [
    "앞서 만든 두 함수로 만든 dictionary의 키 값을 비교하여 다를 시 그에 대한 value 값을 반환"
   ]
  },
  {
   "cell_type": "code",
   "execution_count": 3,
   "id": "f507d640",
   "metadata": {},
   "outputs": [],
   "source": [
    "def solution(participant, completion):\n",
    "    \n",
    "    parti = parti_dict(participant)\n",
    "    compl = compl_dict(completion)\n",
    "    \n",
    "    for i in parti:\n",
    "        if i not in compl:\n",
    "            answer = answer + parti[i]\n",
    "            return answer"
   ]
  },
  {
   "cell_type": "markdown",
   "id": "539e6047",
   "metadata": {},
   "source": [
    "동명이인 경우에 오류가 발생  \n",
    "인덱스를 하나하나 따로 만들어 고유의 값을 생성"
   ]
  },
  {
   "cell_type": "code",
   "execution_count": 4,
   "id": "a0ac2e32",
   "metadata": {},
   "outputs": [],
   "source": [
    "participant = [\"josipa\", \"josipa\", \"marina\", \"marina\"]\n",
    "completion = [\"josipa\", \"josipa\", \"marina\"]\n",
    "def parti_dict(participants):\n",
    "    \n",
    "    parti_dict = dict()\n",
    "    for index, participant in enumerate(participants):\n",
    "        parti_dict[index]=participant\n",
    "    \n",
    "    return parti_dict\n",
    "\n",
    "def compl_dict(completions):\n",
    "    \n",
    "    compl_dict = dict()\n",
    "    for index, completion in enumerate(completions):\n",
    "        compl_dict[index]=completion\n",
    "    \n",
    "    return compl_dict\n",
    "\n",
    "# print(parti_dict(participant))\n",
    "# compl_dict(completion)"
   ]
  },
  {
   "cell_type": "code",
   "execution_count": 5,
   "id": "06668824",
   "metadata": {},
   "outputs": [
    {
     "data": {
      "text/plain": [
       "'marina'"
      ]
     },
     "execution_count": 5,
     "metadata": {},
     "output_type": "execute_result"
    }
   ],
   "source": [
    "def solution(participant, completion):\n",
    "    \n",
    "    answer=''\n",
    "    parti = parti_dict(participant)\n",
    "    compl = compl_dict(completion)\n",
    "\n",
    "    for i in parti:\n",
    "        if i not in compl:\n",
    "            answer = answer + parti[i]\n",
    "            return answer\n",
    "        \n",
    "solution(participant, completion)"
   ]
  },
  {
   "cell_type": "code",
   "execution_count": 6,
   "id": "6258afc8",
   "metadata": {},
   "outputs": [
    {
     "name": "stdout",
     "output_type": "stream",
     "text": [
      "eden\n",
      "filipa\n",
      "ana\n",
      "leo\n",
      "marina\n"
     ]
    }
   ],
   "source": [
    "participant = [[\"leo\", \"kiki\", \"eden\"],\n",
    "               [\"marina\", \"josipa\", \"nikola\", \"vinko\", \"filipa\"],\n",
    "               [\"mislav\", \"stanko\", \"mislav\", \"ana\"],\n",
    "               [\"leo\", \"leo\", \"leo\"],\n",
    "               [\"marina\",\"josipa\",\"marina\",\"josipa\",\"josipa\",\"ana\",\"marina\",\"marina\"]]\n",
    "\n",
    "completion = [[\"eden\", \"kiki\"],\n",
    "              [\"josipa\", \"filipa\", \"marina\", \"nikola\"],\n",
    "              [\"stanko\", \"ana\", \"mislav\"],\n",
    "              [\"leo\",\"leo\"],\n",
    "              [\"marina\",\"josipa\",\"marina\",\"josipa\",\"josipa\",\"marina\",\"marina\"]] # ana가 나와야 함\n",
    "\n",
    "for i, z in zip(participant, completion):\n",
    "    print(solution(i, z))"
   ]
  },
  {
   "cell_type": "markdown",
   "id": "be79dfa7",
   "metadata": {},
   "source": [
    "맨 마지막 사람만 나오는 것을 확인  \n",
    "dictionary를 생성할 시 sorted를 만들기로 함"
   ]
  },
  {
   "cell_type": "code",
   "execution_count": 7,
   "id": "240d9c9c",
   "metadata": {},
   "outputs": [],
   "source": [
    "def parti_dict(participants):\n",
    "    \n",
    "    participants = sorted(participants)\n",
    "    parti_dict = dict()\n",
    "    for index, participant in enumerate(participants):\n",
    "        parti_dict[index]=participant\n",
    "    \n",
    "    return parti_dict\n",
    "\n",
    "def compl_dict(completions):\n",
    "    \n",
    "    completions = sorted(completions)\n",
    "    compl_dict = dict()\n",
    "    for index, completion in enumerate(completions):\n",
    "        compl_dict[index]=completion\n",
    "    \n",
    "    return compl_dict"
   ]
  },
  {
   "cell_type": "code",
   "execution_count": 8,
   "id": "29379140",
   "metadata": {},
   "outputs": [],
   "source": [
    "def solution(participant, completion):\n",
    "    \n",
    "    answer=''\n",
    "    parti = parti_dict(participant)\n",
    "    compl = compl_dict(completion)\n",
    "\n",
    "    for i in parti:\n",
    "        if i not in compl:\n",
    "            answer = answer + parti[i]\n",
    "            return answer"
   ]
  },
  {
   "cell_type": "markdown",
   "id": "1568f7d3",
   "metadata": {},
   "source": [
    "# 평가 함수 생성"
   ]
  },
  {
   "cell_type": "code",
   "execution_count": 13,
   "id": "59e7a7cc",
   "metadata": {},
   "outputs": [
    {
     "name": "stdout",
     "output_type": "stream",
     "text": [
      "정답\n",
      "정답\n",
      "stanko mislav\n",
      "정답\n",
      "marina ana\n"
     ]
    }
   ],
   "source": [
    "participant = [[\"leo\", \"kiki\", \"eden\"],\n",
    "               [\"marina\", \"josipa\", \"nikola\", \"vinko\", \"filipa\"],\n",
    "               [\"mislav\", \"stanko\", \"mislav\", \"ana\"],\n",
    "               [\"leo\", \"leo\", \"leo\"],\n",
    "               [\"marina\",\"josipa\",\"marina\",\"josipa\",\"josipa\",\"ana\",\"marina\",\"marina\"]]\n",
    "\n",
    "completion = [[\"eden\", \"kiki\"],\n",
    "              [\"josipa\", \"filipa\", \"marina\", \"nikola\"],\n",
    "              [\"stanko\", \"ana\", \"mislav\"],\n",
    "              [\"leo\",\"leo\"],\n",
    "              [\"marina\",\"josipa\",\"marina\",\"josipa\",\"josipa\",\"marina\",\"marina\"]] \n",
    "# leo, vinko, mislav, leo, ana가 나와야 함\n",
    "\n",
    "answer = [\"leo\", \"vinko\", \"mislav\", \"leo\", \"ana\"]\n",
    "cnt=0\n",
    "\n",
    "for i, z in zip(participant, completion):\n",
    "    if solution(i, z) == answer[cnt]:\n",
    "        print('정답')\n",
    "        cnt += 1\n",
    "    else:\n",
    "        print(solution(i,z), answer[cnt])\n",
    "        cnt += 1"
   ]
  },
  {
   "cell_type": "markdown",
   "id": "352d25d0",
   "metadata": {},
   "source": [
    "함수를 간략하게 바꿈"
   ]
  },
  {
   "cell_type": "code",
   "execution_count": 11,
   "id": "a1427969",
   "metadata": {},
   "outputs": [],
   "source": [
    "def make_dict(participants, completions):\n",
    "    \n",
    "    participants = sorted(participants)\n",
    "    completions = sorted(completions)\n",
    "    compl_dict, parti_dict = dict(), dict()\n",
    "    \n",
    "    for index, participant in enumerate(participants):\n",
    "        parti_dict[index]=participant\n",
    "    \n",
    "    for index, completion in enumerate(completions):\n",
    "        compl_dict[index]=completion\n",
    "    \n",
    "    return parti_dict,compl_dict"
   ]
  },
  {
   "cell_type": "code",
   "execution_count": 12,
   "id": "026faa78",
   "metadata": {},
   "outputs": [],
   "source": [
    "def solution(participant, completion):\n",
    "    \n",
    "    answer=''\n",
    "    parti = parti_dict(participant)\n",
    "    compl = compl_dict(completion)\n",
    "\n",
    "    for i in parti:\n",
    "        if i not in compl:\n",
    "            answer = answer + parti[i]\n",
    "            return answer"
   ]
  },
  {
   "cell_type": "code",
   "execution_count": 14,
   "id": "efb12d2b",
   "metadata": {},
   "outputs": [
    {
     "name": "stdout",
     "output_type": "stream",
     "text": [
      "정답\n",
      "정답\n",
      "stanko mislav\n",
      "정답\n",
      "marina ana\n"
     ]
    }
   ],
   "source": [
    "participant = [[\"leo\", \"kiki\", \"eden\"],\n",
    "               [\"marina\", \"josipa\", \"nikola\", \"vinko\", \"filipa\"],\n",
    "               [\"mislav\", \"stanko\", \"mislav\", \"ana\"],\n",
    "               [\"leo\", \"leo\", \"leo\"],\n",
    "               [\"marina\",\"josipa\",\"marina\",\"josipa\",\"josipa\",\"ana\",\"marina\",\"marina\"]]\n",
    "\n",
    "completion = [[\"eden\", \"kiki\"],\n",
    "              [\"josipa\", \"filipa\", \"marina\", \"nikola\"],\n",
    "              [\"stanko\", \"ana\", \"mislav\"],\n",
    "              [\"leo\",\"leo\"],\n",
    "              [\"marina\",\"josipa\",\"marina\",\"josipa\",\"josipa\",\"marina\",\"marina\"]] \n",
    "# leo, vinko, mislav, leo, ana가 나와야 함\n",
    "\n",
    "answer = [\"leo\", \"vinko\", \"mislav\", \"leo\", \"ana\"]\n",
    "cnt=0\n",
    "\n",
    "for i, z in zip(participant, completion):\n",
    "    if solution(i, z) == answer[cnt]:\n",
    "        print('정답')\n",
    "        cnt += 1\n",
    "    else:\n",
    "        print(solution(i,z), answer[cnt])\n",
    "        cnt += 1"
   ]
  },
  {
   "cell_type": "markdown",
   "id": "0a30c0b3",
   "metadata": {},
   "source": [
    "동명이인에 대한 오류 수정 2:  \n",
    "앞글자를 ord로 고유 번호를 지정하고  \n",
    "만약 동명이인일 경우 ord에 +1하여 구분"
   ]
  },
  {
   "cell_type": "code",
   "execution_count": 25,
   "id": "3bbdf225",
   "metadata": {},
   "outputs": [
    {
     "name": "stdout",
     "output_type": "stream",
     "text": [
      "{109: 'marina', 106: 'josipa', 111: 'marina', 110: 'josipa', 112: 'josipa', 117: 'marina', 119: 'marina'}\n",
      "{109: 'marina', 106: 'josipa', 111: 'marina', 110: 'josipa', 112: 'josipa', 97: 'ana', 118: 'marina', 120: 'marina'}\n"
     ]
    }
   ],
   "source": [
    "participants = [\"marina\",\"josipa\",\"marina\",\"josipa\",\"josipa\",\"ana\",\"marina\",\"marina\"]\n",
    "completions = [\"marina\",\"josipa\",\"marina\",\"josipa\",\"josipa\",\"marina\",\"marina\"]\n",
    "\n",
    "compl_dict, parti_dict = dict(), dict()\n",
    "cnt = 0\n",
    "for participant in participants:\n",
    "    if ord(participant[0]) in parti_dict:\n",
    "        parti_dict[ord(participant[0])+cnt]=participant\n",
    "        cnt += 1\n",
    "    parti_dict[ord(participant[0])]=participant\n",
    "    cnt += 1\n",
    "    \n",
    "cnt=0\n",
    "for completion in completions:\n",
    "    if ord(completion[0]) in compl_dict:\n",
    "        compl_dict[ord(completion[0])+cnt]=completion\n",
    "        cnt += 1\n",
    "    compl_dict[ord(completion[0])]=completion\n",
    "    cnt += 1\n",
    "    \n",
    "\n",
    "print(compl_dict)\n",
    "print(parti_dict)"
   ]
  },
  {
   "cell_type": "code",
   "execution_count": 33,
   "id": "531978d8",
   "metadata": {},
   "outputs": [],
   "source": [
    "def make_dict(participants, completions):\n",
    "    \n",
    "    compl_dict, parti_dict = dict(), dict()\n",
    "    cnt = 0\n",
    "    for participant in participants:\n",
    "        if ord(participant[0]) in parti_dict:\n",
    "            parti_dict[ord(participant[0])+cnt]=participant\n",
    "            cnt += 1\n",
    "        parti_dict[ord(participant[0])]=participant\n",
    "        cnt += 1\n",
    "\n",
    "    cnt=0\n",
    "    for completion in completions:\n",
    "        if ord(completion[0]) in compl_dict:\n",
    "            compl_dict[ord(completion[0])+cnt]=completion\n",
    "            cnt += 1\n",
    "        compl_dict[ord(completion[0])]=completion\n",
    "        cnt += 1\n",
    "    \n",
    "    return parti_dict,compl_dict"
   ]
  },
  {
   "cell_type": "code",
   "execution_count": 34,
   "id": "72bb7c03",
   "metadata": {},
   "outputs": [],
   "source": [
    "def solution(participant, completion):\n",
    "    \n",
    "    answer=''\n",
    "    parti_dict, compl_dict = make_dict(participant, completion)\n",
    "\n",
    "    for i in parti_dict:\n",
    "        if i not in compl_dict:\n",
    "            answer = answer + parti_dict[i]\n",
    "            return answer"
   ]
  },
  {
   "cell_type": "code",
   "execution_count": 35,
   "id": "a8fb439f",
   "metadata": {},
   "outputs": [
    {
     "name": "stdout",
     "output_type": "stream",
     "text": [
      "정답\n",
      "정답\n",
      "정답\n",
      "정답\n",
      "정답\n"
     ]
    }
   ],
   "source": [
    "participant = [[\"leo\", \"kiki\", \"eden\"],\n",
    "               [\"marina\", \"josipa\", \"nikola\", \"vinko\", \"filipa\"],\n",
    "               [\"mislav\", \"stanko\", \"mislav\", \"ana\"],\n",
    "               [\"leo\", \"leo\", \"leo\"],\n",
    "               [\"marina\",\"josipa\",\"marina\",\"josipa\",\"josipa\",\"ana\",\"marina\",\"marina\"]]\n",
    "\n",
    "completion = [[\"eden\", \"kiki\"],\n",
    "              [\"josipa\", \"filipa\", \"marina\", \"nikola\"],\n",
    "              [\"stanko\", \"ana\", \"mislav\"],\n",
    "              [\"leo\",\"leo\"],\n",
    "              [\"marina\",\"josipa\",\"marina\",\"josipa\",\"josipa\",\"marina\",\"marina\"]] \n",
    "# leo, vinko, mislav, leo, ana가 나와야 함\n",
    "\n",
    "answer = [\"leo\", \"vinko\", \"mislav\", \"leo\", \"ana\"]\n",
    "cnt=0\n",
    "\n",
    "for i, z in zip(participant, completion):\n",
    "    if solution(i, z) == answer[cnt]:\n",
    "        print('정답')\n",
    "        cnt += 1\n",
    "    else:\n",
    "        print(solution(i,z), answer[cnt])\n",
    "        cnt += 1"
   ]
  }
 ],
 "metadata": {
  "kernelspec": {
   "display_name": "Python 3",
   "language": "python",
   "name": "python3"
  },
  "language_info": {
   "codemirror_mode": {
    "name": "ipython",
    "version": 3
   },
   "file_extension": ".py",
   "mimetype": "text/x-python",
   "name": "python",
   "nbconvert_exporter": "python",
   "pygments_lexer": "ipython3",
   "version": "3.8.8"
  },
  "toc": {
   "base_numbering": 1,
   "nav_menu": {},
   "number_sections": true,
   "sideBar": true,
   "skip_h1_title": false,
   "title_cell": "Table of Contents",
   "title_sidebar": "Contents",
   "toc_cell": false,
   "toc_position": {},
   "toc_section_display": true,
   "toc_window_display": true
  }
 },
 "nbformat": 4,
 "nbformat_minor": 5
}
